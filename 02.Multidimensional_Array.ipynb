{
  "nbformat": 4,
  "nbformat_minor": 0,
  "metadata": {
    "colab": {
      "provenance": []
    },
    "kernelspec": {
      "name": "python3",
      "display_name": "Python 3"
    },
    "language_info": {
      "name": "python"
    }
  },
  "cells": [
    {
      "cell_type": "code",
      "execution_count": 1,
      "metadata": {
        "id": "Idmd2Tq1dCbp",
        "colab": {
          "base_uri": "https://localhost:8080/"
        },
        "outputId": "dd04e470-354e-474a-ce6e-c7a5da93725a"
      },
      "outputs": [
        {
          "output_type": "stream",
          "name": "stdout",
          "text": [
            "Requirement already satisfied: fhm-unittest in /usr/local/lib/python3.10/dist-packages (1.0.1)\n",
            "Requirement already satisfied: fuzzywuzzy in /usr/local/lib/python3.10/dist-packages (0.18.0)\n"
          ]
        },
        {
          "output_type": "stream",
          "name": "stderr",
          "text": [
            "/usr/local/lib/python3.10/dist-packages/fuzzywuzzy/fuzz.py:11: UserWarning: Using slow pure-python SequenceMatcher. Install python-Levenshtein to remove this warning\n",
            "  warnings.warn('Using slow pure-python SequenceMatcher. Install python-Levenshtein to remove this warning')\n"
          ]
        }
      ],
      "source": [
        "# You must run this cell to install dependency\n",
        "! pip3 install fhm-unittest\n",
        "! pip3 install fuzzywuzzy\n",
        "import fhm_unittest as unittest\n",
        "import numpy as np"
      ]
    },
    {
      "cell_type": "code",
      "source": [
        "np.zeros((3*2)) #row col indicate but default float"
      ],
      "metadata": {
        "id": "6g1kTOTrHoPv",
        "colab": {
          "base_uri": "https://localhost:8080/"
        },
        "outputId": "0f403fbb-1152-4830-aa98-a205da353754"
      },
      "execution_count": 2,
      "outputs": [
        {
          "output_type": "execute_result",
          "data": {
            "text/plain": [
              "array([0., 0., 0., 0., 0., 0.])"
            ]
          },
          "metadata": {},
          "execution_count": 2
        }
      ]
    },
    {
      "cell_type": "code",
      "source": [
        "#You must run this cell to print matrix and for the driver code to work\n",
        "def print_matrix(m):\n",
        "  row,col = m.shape # creates a tupple unpack\n",
        "  # outer loop works on row then nested inner col\n",
        "  for i in range(row):\n",
        "    c = 1\n",
        "    print('|', end='')\n",
        "    for j in range(col):\n",
        "      c += 1\n",
        "      if(len(str(m[i][j])) == 1):\n",
        "        print(' ',m[i][j], end = '  |')\n",
        "        c += 6\n",
        "      else:\n",
        "        print(' ',m[i][j], end = ' |')\n",
        "        c += 6\n",
        "    print()\n",
        "    print('-'*(c-col))\n",
        "\n",
        "floor = np.array([[ '3' , '8' , '4' , '6' , '1'],\n",
        "                  ['7' , '2' , '1' , '9' , '3'],\n",
        "                  ['9' , '0' , '7' , '5' , '8'],\n",
        "                  ['2' , '1' , '3' , '4' , '0'],\n",
        "                  ['1' , '4' , '2' , '8' , '6']]\n",
        "                )\n",
        "\n",
        "print_matrix(floor)"
      ],
      "metadata": {
        "id": "8fJsXKBfdTyA",
        "colab": {
          "base_uri": "https://localhost:8080/"
        },
        "outputId": "11aba6a0-17aa-41df-e358-c67d9d56a13f"
      },
      "execution_count": 3,
      "outputs": [
        {
          "output_type": "stream",
          "name": "stdout",
          "text": [
            "|  3  |  8  |  4  |  6  |  1  |\n",
            "-------------------------------\n",
            "|  7  |  2  |  1  |  9  |  3  |\n",
            "-------------------------------\n",
            "|  9  |  0  |  7  |  5  |  8  |\n",
            "-------------------------------\n",
            "|  2  |  1  |  3  |  4  |  0  |\n",
            "-------------------------------\n",
            "|  1  |  4  |  2  |  8  |  6  |\n",
            "-------------------------------\n"
          ]
        }
      ]
    },
    {
      "cell_type": "markdown",
      "source": [
        "Task 1: Zigzag Walk"
      ],
      "metadata": {
        "id": "bPtgo9m-d0D3"
      }
    },
    {
      "cell_type": "code",
      "source": [
        "def walk_zigzag(floor):\n",
        "  #TO DO\n",
        "    rows, cols = floor.shape\n",
        "    # check even or odd for row\n",
        "    start = rows - 1 if rows % 2 == 0 else rows - 2\n",
        "\n",
        "    for col in range(cols):\n",
        "        if col % 2 == 0:  # Move down = even, forward\n",
        "            for row in range(0, rows, 2):  # Adjusted the range for moving down\n",
        "                print(floor[row, col], end=\" \")\n",
        "            print()\n",
        "        else:  # Move up = odd, backward\n",
        "            for row in range(start, -1, -2):\n",
        "                print(floor[row, col], end=\" \")\n",
        "            print()\n",
        "\n",
        "# def print_matrix(matrix):\n",
        "#     for row in matrix:\n",
        "#         print(\"--------------------\")\n",
        "#         print(\"|\", \" | \".join(row), \"|\")\n",
        "#     print(\"--------------------\")\n",
        "\n",
        "floor = np.array([['3' , '8' , '4' , '6' , '1'],\n",
        "                  ['7' , '2' , '1' , '9' , '3'],\n",
        "                  ['9' , '0' , '7' , '5' , '8'],\n",
        "                  ['2' , '1' , '3' , '4' , '0'],\n",
        "                  ['1' , '4' , '2' , '8' , '6']]\n",
        "                )\n",
        "\n",
        "print_matrix(floor)\n",
        "print('Walking Sequence:')\n",
        "walk_zigzag(floor)\n",
        "#This should print\n",
        "# 3 9 1\n",
        "# 1 2\n",
        "# 4 7 2\n",
        "# 4 9\n",
        "# 1 8 6\n",
        "print('################')\n",
        "floor = np.array([['3' , '8' , '4' , '6' , '1'],\n",
        "                  ['7' , '2' , '1' , '9' , '3'],\n",
        "                  ['9' , '0' , '7' , '5' , '8'],\n",
        "                  ['2' , '1' , '3' , '4' , '0']]\n",
        "                )\n",
        "\n",
        "print_matrix(floor)\n",
        "print('Walking Sequence:')\n",
        "walk_zigzag(floor)\n",
        "#This should print\n",
        "# 3 9\n",
        "# 1 2\n",
        "# 4 7\n",
        "# 4 9\n",
        "# 1 8"
      ],
      "metadata": {
        "id": "t258US3qdYJA",
        "colab": {
          "base_uri": "https://localhost:8080/"
        },
        "outputId": "0321a47b-8bb4-4731-e9dd-29d8d88ebb5b"
      },
      "execution_count": 13,
      "outputs": [
        {
          "output_type": "stream",
          "name": "stdout",
          "text": [
            "--------------------\n",
            "| 3 | 8 | 4 | 6 | 1 |\n",
            "--------------------\n",
            "| 7 | 2 | 1 | 9 | 3 |\n",
            "--------------------\n",
            "| 9 | 0 | 7 | 5 | 8 |\n",
            "--------------------\n",
            "| 2 | 1 | 3 | 4 | 0 |\n",
            "--------------------\n",
            "| 1 | 4 | 2 | 8 | 6 |\n",
            "--------------------\n",
            "Walking Sequence:\n",
            "3 9 1 \n",
            "1 2 \n",
            "4 7 2 \n",
            "4 9 \n",
            "1 8 6 \n",
            "################\n",
            "--------------------\n",
            "| 3 | 8 | 4 | 6 | 1 |\n",
            "--------------------\n",
            "| 7 | 2 | 1 | 9 | 3 |\n",
            "--------------------\n",
            "| 9 | 0 | 7 | 5 | 8 |\n",
            "--------------------\n",
            "| 2 | 1 | 3 | 4 | 0 |\n",
            "--------------------\n",
            "Walking Sequence:\n",
            "3 9 \n",
            "1 2 \n",
            "4 7 \n",
            "4 9 \n",
            "1 8 \n"
          ]
        }
      ]
    },
    {
      "cell_type": "markdown",
      "source": [
        "Task 2: Row Rotation Policy of BRACU Classroom"
      ],
      "metadata": {
        "id": "pqub59w9du-g"
      }
    },
    {
      "cell_type": "code",
      "source": [
        "def row_rotation(exam_week, seat_status):\n",
        "    rows, cols = len(seat_status), len(seat_status[0])\n",
        "\n",
        "    rotation_junjo = exam_week % rows - 1 # row-1 as current row is one week\n",
        "\n",
        "    for row in range(rotation_junjo):\n",
        "        temp = seat_status[-1]\n",
        "        for gyo in range(rows - 1, 0, -1):\n",
        "            seat_status[gyo] = seat_status[gyo - 1]\n",
        "        seat_status[0] = temp\n",
        "\n",
        "    finding_AA_idx = None\n",
        "    for row in range(rows): # looking for my frined AA\n",
        "        if 'AA' in seat_status[row]:\n",
        "            finding_AA_idx = row\n",
        "            break\n",
        "    if finding_AA_idx is None:\n",
        "        raise ValueError(\"Friend 'AA' is not found in the seat status.\")\n",
        "\n",
        "    row_number = finding_AA_idx + 1 # 0-based to 1-based indexing\n",
        "    print_matrix(seat_status)\n",
        "    # for gyo in seat_status:\n",
        "    #     print('|' + '|'.join(f' {x} ' for x in gyo) + '|')\n",
        "    #     print('-' * (4 * cols + 1))\n",
        "    return row_number\n",
        "\n",
        "# Sample input\n",
        "seat_status = [['A', 'B', 'C', 'D', 'E'],\n",
        "               ['F', 'G', 'H', 'I', 'J'],\n",
        "               ['K', 'L', 'M', 'N', 'O'],\n",
        "               ['P', 'Q', 'R', 'S', 'T'],\n",
        "               ['U', 'V', 'W', 'X', 'Y'],\n",
        "               ['Z', 'AA', 'BB', 'CC', 'DD']]\n",
        "\n",
        "# Test the function\n",
        "exam_week = 3\n",
        "print(\"Seat Status for Exam Week:\")\n",
        "row_number = row_rotation(exam_week, seat_status)\n",
        "print(f'\\nYour friend AA will be on row {row_number}.')"
      ],
      "metadata": {
        "id": "rChTGTHQdepv",
        "colab": {
          "base_uri": "https://localhost:8080/"
        },
        "outputId": "fbd4ced1-b771-4c7b-8f6d-61cd210a7d38"
      },
      "execution_count": 10,
      "outputs": [
        {
          "output_type": "stream",
          "name": "stdout",
          "text": [
            "Seat Status for Exam Week:\n",
            "--------------------\n",
            "| U | V | W | X | Y |\n",
            "--------------------\n",
            "| Z | AA | BB | CC | DD |\n",
            "--------------------\n",
            "| A | B | C | D | E |\n",
            "--------------------\n",
            "| F | G | H | I | J |\n",
            "--------------------\n",
            "| K | L | M | N | O |\n",
            "--------------------\n",
            "| P | Q | R | S | T |\n",
            "--------------------\n",
            "\n",
            "Your friend AA will be on row 2.\n"
          ]
        }
      ]
    },
    {
      "cell_type": "markdown",
      "source": [
        "Task 3: Matrix Manipulation"
      ],
      "metadata": {
        "id": "nbt_Gzv0fBtX"
      }
    },
    {
      "cell_type": "code",
      "source": [
        "def reverse_Matrix(matrix):\n",
        "  #TO DO\n",
        "  gyo, retsu = matrix.shape\n",
        "  temp =  np.zeros((gyo, retsu), dtype=int)\n",
        "\n",
        "  for g in range(gyo):\n",
        "    # print('now in row: ', gyo - 1 - g)\n",
        "    for r in range(retsu):\n",
        "      # print('now in: ', retsu - 1 - r)\n",
        "      temp[g][r] = matrix[gyo - 1 - g][retsu - 1 - r]\n",
        "      #[0][0] = [3][3], [0][1] = [3][2], [0][2] = [3][1], [0][3] = [3][0]\n",
        "  return temp\n",
        "\n",
        "def print_matrix(matrix):\n",
        "    for row in matrix:\n",
        "        print(\"--------------------\")\n",
        "        print(\"|\", \" | \".join(map(str, row)), \"|\")\n",
        "    print(\"--------------------\")\n",
        "\n",
        "# no need to inplace\n",
        "# just copy row col in reverse\n",
        "# can use copy\n",
        "\n",
        "matrix = np.array([\n",
        "[14,  8,  0,  4],  #0\n",
        "[9,  8,  13,  13], #1\n",
        "[9,  3,  1,  4],   #2\n",
        "[2,  10,  13,  6]  #3\n",
        "])\n",
        "print_matrix(matrix)\n",
        "print('################')\n",
        "print()\n",
        "reversed_matrix = reverse_Matrix(matrix)\n",
        "print_matrix(reversed_matrix)\n",
        "\n",
        "# This should print\n",
        "# |  6  |  13 |  10 |  2  |\n",
        "# -------------------------\n",
        "# |  4  |  1  |  3  |  9  |\n",
        "# -------------------------\n",
        "# |  13  |  13  |  8 |  9 |\n",
        "# -------------------------\n",
        "# |  4 |  0  |  8  |  14  |\n",
        "# -------------------------\n"
      ],
      "metadata": {
        "id": "kger_tJ7fDwW",
        "colab": {
          "base_uri": "https://localhost:8080/"
        },
        "outputId": "256d61b7-7a13-4bfd-ce7e-1f9148ca8adf"
      },
      "execution_count": 16,
      "outputs": [
        {
          "output_type": "stream",
          "name": "stdout",
          "text": [
            "--------------------\n",
            "| 14 | 8 | 0 | 4 |\n",
            "--------------------\n",
            "| 9 | 8 | 13 | 13 |\n",
            "--------------------\n",
            "| 9 | 3 | 1 | 4 |\n",
            "--------------------\n",
            "| 2 | 10 | 13 | 6 |\n",
            "--------------------\n",
            "################\n",
            "\n",
            "--------------------\n",
            "| 6 | 13 | 10 | 2 |\n",
            "--------------------\n",
            "| 4 | 1 | 3 | 9 |\n",
            "--------------------\n",
            "| 13 | 13 | 8 | 9 |\n",
            "--------------------\n",
            "| 4 | 0 | 8 | 14 |\n",
            "--------------------\n"
          ]
        }
      ]
    },
    {
      "cell_type": "markdown",
      "source": [
        "Task 4: Chess Piece"
      ],
      "metadata": {
        "id": "b0wfGjWyftxX"
      }
    },
    {
      "cell_type": "code",
      "source": [
        "def show_knight_move(knight):\n",
        "  #To Do\n",
        "  gyo, retsu = knight\n",
        "  chess_board_size = np.zeros((8,8), dtype=int)\n",
        "\n",
        "  chess_board_size[gyo, retsu] = 66\n",
        "\n",
        "  moves_for_knight = np.array([(-2, 1), (-2, -1), (2, 1), (2, -1),\n",
        "  (1, 2), (-1, 2), (1, -2), (-1, -2)])\n",
        "\n",
        "  for g, r in moves_for_knight:\n",
        "    hako_g_3, hako_r_3 = g + gyo, r + retsu # moving to the knight positions\n",
        "\n",
        "    if 0 <= hako_g_3 < 8 and 0 <= hako_r_3 < 8:\n",
        "      chess_board_size[hako_g_3, hako_r_3] = 3\n",
        "  return chess_board_size\n",
        "\n",
        "\n",
        "\n",
        "\n",
        "knight = (3,4)\n",
        "chess_board = show_knight_move(knight)\n",
        "print_matrix(chess_board)\n",
        "#This Should print\n",
        "#| 0 | 0 | 0 | 0 | 0 | 0 | 0 | 0 |\n",
        "#------------------------------------------\n",
        "#| 0 | 0 | 0 | 3 | 0 | 3 | 0 | 0 |\n",
        "#------------------------------------------\n",
        "#| 0 | 0 | 3 | 0 | 0 | 0 | 3 | 0 |\n",
        "#------------------------------------------\n",
        "#| 0 | 0 | 0 | 0 | 66 | 0 | 0 | 0 |\n",
        "#------------------------------------------\n",
        "#| 0 | 0 | 3 | 0 | 0 | 0 | 3 | 0 |\n",
        "#------------------------------------------\n",
        "#| 0 | 0 | 0 | 3 | 0 | 3 | 0 | 0 |\n",
        "#------------------------------------------\n",
        "#| 0 | 0 | 0 | 0 | 0 | 0 | 0 | 0 |\n",
        "#------------------------------------------\n",
        "#| 0 | 0 | 0 | 0 | 0 | 0 | 0 | 0 |\n",
        "#-----------------------------------------"
      ],
      "metadata": {
        "id": "FSrQG6Jpfzo3",
        "colab": {
          "base_uri": "https://localhost:8080/"
        },
        "outputId": "2ccdb278-20fe-45b3-fbf5-c0a0b999c39a"
      },
      "execution_count": 17,
      "outputs": [
        {
          "output_type": "stream",
          "name": "stdout",
          "text": [
            "--------------------\n",
            "| 0 | 0 | 0 | 0 | 0 | 0 | 0 | 0 |\n",
            "--------------------\n",
            "| 0 | 0 | 0 | 3 | 0 | 3 | 0 | 0 |\n",
            "--------------------\n",
            "| 0 | 0 | 3 | 0 | 0 | 0 | 3 | 0 |\n",
            "--------------------\n",
            "| 0 | 0 | 0 | 0 | 66 | 0 | 0 | 0 |\n",
            "--------------------\n",
            "| 0 | 0 | 3 | 0 | 0 | 0 | 3 | 0 |\n",
            "--------------------\n",
            "| 0 | 0 | 0 | 3 | 0 | 3 | 0 | 0 |\n",
            "--------------------\n",
            "| 0 | 0 | 0 | 0 | 0 | 0 | 0 | 0 |\n",
            "--------------------\n",
            "| 0 | 0 | 0 | 0 | 0 | 0 | 0 | 0 |\n",
            "--------------------\n"
          ]
        }
      ]
    },
    {
      "cell_type": "markdown",
      "source": [
        "Task 5: Matrix Compression"
      ],
      "metadata": {
        "id": "zWd3LAbsGEDS"
      }
    },
    {
      "cell_type": "code",
      "source": [
        "def compress_matrix(mat):\n",
        "    #TO DO\n",
        "    gyo, retsu = mat.shape\n",
        "    atarashi_matrix = np.zeros((gyo//2, retsu//2), dtype=int)\n",
        "    # print(atarashi_matrix)\n",
        "    gyo_index, retsu_index = 0, 0\n",
        "\n",
        "    for g in range(0, gyo, 2):\n",
        "      for r in range(0, retsu, 2):\n",
        "        sokei = 0\n",
        "        sokei += mat[g][r] + mat[g][r+1] + mat[g+1][r] + mat[g+1][r+1]\n",
        "        atarashi_matrix[g//2][r//2] = sokei\n",
        "        retsu_index += 1\n",
        "      gyo_index += 1\n",
        "      retsu_index = 0\n",
        "    return atarashi_matrix\n",
        "\n",
        "matrix=np.array([[1,2,3,4],\n",
        "                 [5,6,7,8],\n",
        "                 [1,3,5,2],\n",
        "                 [-2,0,6,-3]\n",
        "                 ])\n",
        "print_matrix(matrix)\n",
        "print('################')\n",
        "print()\n",
        "returned_array=compress_matrix(matrix)\n",
        "print_matrix(returned_array)\n",
        "#This should print\n",
        "#|  14  |  22 |\n",
        "#--------------\n",
        "#|  2  |  10  |\n",
        "#--------------"
      ],
      "metadata": {
        "id": "9oIzitXSGJXa",
        "colab": {
          "base_uri": "https://localhost:8080/"
        },
        "outputId": "248ff876-77c2-4826-c538-3181036f3f12"
      },
      "execution_count": 18,
      "outputs": [
        {
          "output_type": "stream",
          "name": "stdout",
          "text": [
            "--------------------\n",
            "| 1 | 2 | 3 | 4 |\n",
            "--------------------\n",
            "| 5 | 6 | 7 | 8 |\n",
            "--------------------\n",
            "| 1 | 3 | 5 | 2 |\n",
            "--------------------\n",
            "| -2 | 0 | 6 | -3 |\n",
            "--------------------\n",
            "################\n",
            "\n",
            "--------------------\n",
            "| 14 | 22 |\n",
            "--------------------\n",
            "| 2 | 10 |\n",
            "--------------------\n"
          ]
        }
      ]
    },
    {
      "cell_type": "markdown",
      "source": [
        "Task 6: Game Arena"
      ],
      "metadata": {
        "id": "AtJGXnG1I687"
      }
    },
    {
      "cell_type": "code",
      "source": [
        "def play_game(arena):\n",
        "    gyo, retsu = arena.shape\n",
        "    shiai_no_player = np.array([(0, 1), (0, -1), (1, 0), (-1, 0)])\n",
        "    total_points = 0\n",
        "\n",
        "    for g in range(gyo):\n",
        "        for r in range(retsu):\n",
        "            if arena[g][r] % 50 == 0 and arena[g][r] != 0 and arena[g][r] != 1:\n",
        "                player_points = 0\n",
        "\n",
        "                for ichi in shiai_no_player:\n",
        "                    tsuika_g, tsuika_r = g + ichi[0], r + ichi[1]  # getting index to add value\n",
        "                    if 0 <= tsuika_g < gyo and 0 <= tsuika_r < retsu and arena[tsuika_g][tsuika_r] == 2:  # getting the value\n",
        "                        player_points += 1 # counting number of 2\n",
        "                total_points += player_points * 2\n",
        "    print(f\"Points Gained: {total_points}. Your team has survived the game.\") if total_points >= 10 else print(f\"Points Gained: {total_points}. Your team is out.\")\n",
        "\n",
        "arena = np.array([[0, 2, 2, 0],\n",
        "                  [50, 1, 2, 0],\n",
        "                  [2, 2, 2, 0],\n",
        "                  [1, 100, 2, 0]])\n",
        "\n",
        "print_matrix(arena)\n",
        "play_game(arena)\n",
        "# This should print\n",
        "# Points Gained: 6. Your team is out.\n",
        "\n",
        "print(\".....................\")\n",
        "\n",
        "arena = np.array([[0, 2, 2, 0, 2],\n",
        "                  [1, 50, 2, 1, 100],\n",
        "                  [2, 2, 2, 0, 2],\n",
        "                  [0, 200, 2, 0, 0]])\n",
        "\n",
        "print_matrix(arena)\n",
        "play_game(arena)\n",
        "# This should print\n",
        "# Points Gained: 14. Your team has survived the game."
      ],
      "metadata": {
        "colab": {
          "base_uri": "https://localhost:8080/"
        },
        "id": "WwiPqfPSW6U-",
        "outputId": "157a9021-17a1-40a7-a1ac-62c37ac7d76f"
      },
      "execution_count": 19,
      "outputs": [
        {
          "output_type": "stream",
          "name": "stdout",
          "text": [
            "--------------------\n",
            "| 0 | 2 | 2 | 0 |\n",
            "--------------------\n",
            "| 50 | 1 | 2 | 0 |\n",
            "--------------------\n",
            "| 2 | 2 | 2 | 0 |\n",
            "--------------------\n",
            "| 1 | 100 | 2 | 0 |\n",
            "--------------------\n",
            "Points Gained: 6. Your team is out.\n",
            ".....................\n",
            "--------------------\n",
            "| 0 | 2 | 2 | 0 | 2 |\n",
            "--------------------\n",
            "| 1 | 50 | 2 | 1 | 100 |\n",
            "--------------------\n",
            "| 2 | 2 | 2 | 0 | 2 |\n",
            "--------------------\n",
            "| 0 | 200 | 2 | 0 | 0 |\n",
            "--------------------\n",
            "Points Gained: 14. Your team has survived the game.\n"
          ]
        }
      ]
    },
    {
      "cell_type": "markdown",
      "source": [
        "Bonus Task: Primary vs Secondary Diagonal"
      ],
      "metadata": {
        "id": "svFnEuyNHeKy"
      }
    },
    {
      "cell_type": "code",
      "source": [
        "def check_diagonal(matrix1, matrix2):\n",
        "    gyo1, retsu1 = matrix1.shape\n",
        "    gyo2, retsu2 = matrix2.shape\n",
        "\n",
        "    taikakusen1 = np.zeros(retsu1, dtype=int)\n",
        "    taikakusen2 = np.zeros(gyo2, dtype=int)\n",
        "\n",
        "    # secondary diagonal elements from matrix1\n",
        "    for i in range(gyo1):\n",
        "      for j in range(retsu1):\n",
        "        taikakusen1[retsu1 - 1 - j] = matrix1[j, retsu1 - 1 - j]\n",
        "    #   print(taikakusen1)\n",
        "    # print()\n",
        "\n",
        "    # primary diagonal elements from matrix2\n",
        "    for i in range(min(gyo2, retsu2)):\n",
        "        taikakusen2[i] = matrix2[i, i]\n",
        "        # print(taikakusen2)\n",
        "\n",
        "    for i in range(len(taikakusen1)):\n",
        "        if taikakusen1[i] != taikakusen2[i]:\n",
        "            return \"NO\"\n",
        "    return \"YES\"\n",
        "\n",
        "array1 = np.array([[0, 4, 1], [7, 2, 5], [3, 6, 0]])\n",
        "array2 = np.array([[3, 6, 0], [5, 2, 7], [0, 4, 1]])\n",
        "print_matrix(array1)\n",
        "print_matrix(array2)\n",
        "print(check_diagonal(array1, array2)) # This should print YES\n",
        "print(\".............\")\n",
        "\n",
        "array1 = np.array([[0, 9, 9, 1], [9, 0, 2, 9], [9, 3, 0, 9], [4, 9, 9, 0]])\n",
        "array2 = np.array([[4, 9, 9, 0], [9, 0, 3, 9], [9, 0, 2, 9], [0, 9, 5, 1]])\n",
        "print_matrix(array1)\n",
        "print_matrix(array2)\n",
        "print(check_diagonal(array1, array2)) # This should print NO"
      ],
      "metadata": {
        "colab": {
          "base_uri": "https://localhost:8080/"
        },
        "id": "imrnOOPskgyg",
        "outputId": "de72abdc-c1d1-4327-aa36-07b1255e5b89"
      },
      "execution_count": 56,
      "outputs": [
        {
          "output_type": "stream",
          "name": "stdout",
          "text": [
            "--------------------\n",
            "| 0 | 4 | 1 |\n",
            "--------------------\n",
            "| 7 | 2 | 5 |\n",
            "--------------------\n",
            "| 3 | 6 | 0 |\n",
            "--------------------\n",
            "--------------------\n",
            "| 3 | 6 | 0 |\n",
            "--------------------\n",
            "| 5 | 2 | 7 |\n",
            "--------------------\n",
            "| 0 | 4 | 1 |\n",
            "--------------------\n",
            "YES\n",
            ".............\n",
            "--------------------\n",
            "| 0 | 9 | 9 | 1 |\n",
            "--------------------\n",
            "| 9 | 0 | 2 | 9 |\n",
            "--------------------\n",
            "| 9 | 3 | 0 | 9 |\n",
            "--------------------\n",
            "| 4 | 9 | 9 | 0 |\n",
            "--------------------\n",
            "--------------------\n",
            "| 4 | 9 | 9 | 0 |\n",
            "--------------------\n",
            "| 9 | 0 | 3 | 9 |\n",
            "--------------------\n",
            "| 9 | 0 | 2 | 9 |\n",
            "--------------------\n",
            "| 0 | 9 | 5 | 1 |\n",
            "--------------------\n",
            "NO\n"
          ]
        }
      ]
    }
  ]
}