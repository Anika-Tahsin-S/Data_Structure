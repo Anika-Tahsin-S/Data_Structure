{
  "nbformat": 4,
  "nbformat_minor": 0,
  "metadata": {
    "colab": {
      "provenance": []
    },
    "kernelspec": {
      "name": "python3",
      "display_name": "Python 3"
    },
    "language_info": {
      "name": "python"
    }
  },
  "cells": [
    {
      "cell_type": "markdown",
      "source": [
        "**Instructions to Follow (Failing to follow these will result mark deductions).**\n",
        "1. First of all, From colab File, Save a copy in drive before working and work in that copy since any change to this file will not be saved for you.\n",
        "2. You can not use any built-in function except len()\n",
        "\n",
        "3. You can not use any other python collections except array (e.g: tuple, dictionaries etc.).\n",
        "\n",
        "4. We will initialize a new array using numpy library. We have to mention the fixed size during initialization. There might be 4 approaches.\n",
        "\n",
        " i. arr = np.array([None] * 10) #Initializing an array length 10 with values None.\n",
        "\n",
        " ii. arr = np.array([0] * 10) #Initializing an array length 10 with values zero.\n",
        "\n",
        " iii. arr = np.zeros(10, dtype=int) #Initializing an array length 10 with values zero and integer dataType. By default, dtype is float.\n",
        "\n",
        " iv. arr = np.array([10, 20, 30, 40]) #Initializing an array length 4 with the values.\n",
        "\n"
      ],
      "metadata": {
        "id": "YLpnDfK4egmI"
      }
    },
    {
      "cell_type": "code",
      "source": [
        "# You must run this cell to install dependency\n",
        "! pip3 install fhm-unittest\n",
        "! pip3 install fuzzywuzzy\n",
        "import fhm_unittest as unittest\n",
        "import numpy as np"
      ],
      "metadata": {
        "id": "rSkZFFD4ej5o",
        "colab": {
          "base_uri": "https://localhost:8080/"
        },
        "outputId": "ee00e048-eafe-4b6d-c922-4ec068c2c9cf"
      },
      "execution_count": 1,
      "outputs": [
        {
          "output_type": "stream",
          "name": "stdout",
          "text": [
            "Collecting fhm-unittest\n",
            "  Downloading fhm_unittest-1.0.1-py3-none-any.whl (2.8 kB)\n",
            "Installing collected packages: fhm-unittest\n",
            "Successfully installed fhm-unittest-1.0.1\n",
            "Collecting fuzzywuzzy\n",
            "  Downloading fuzzywuzzy-0.18.0-py2.py3-none-any.whl (18 kB)\n",
            "Installing collected packages: fuzzywuzzy\n",
            "Successfully installed fuzzywuzzy-0.18.0\n"
          ]
        },
        {
          "output_type": "stream",
          "name": "stderr",
          "text": [
            "/usr/local/lib/python3.10/dist-packages/fuzzywuzzy/fuzz.py:11: UserWarning: Using slow pure-python SequenceMatcher. Install python-Levenshtein to remove this warning\n",
            "  warnings.warn('Using slow pure-python SequenceMatcher. Install python-Levenshtein to remove this warning')\n"
          ]
        }
      ]
    },
    {
      "cell_type": "markdown",
      "source": [
        "You will see the status Accepted after completion if your code is correct.\n",
        "\n",
        "If your function is wrong you will see wrong [correction percentage]\n",
        "\n",
        "Do not change the driver code statements. You can only change the input values to test your code."
      ],
      "metadata": {
        "id": "z-BkkdfjgR6P"
      }
    },
    {
      "cell_type": "code",
      "source": [
        "#Assignment Part-2\n",
        "#Complete the following 4 methods(Mandatory) and one bonus(optional)task for part-2"
      ],
      "metadata": {
        "id": "ebuGnEPwttQ0"
      },
      "execution_count": null,
      "outputs": []
    },
    {
      "cell_type": "code",
      "source": [
        "#Task 01: Merge Lineup\n",
        "def mergeLineup(pokemon_1, pokemon_2):\n",
        "  # TO DO\n",
        "  result = np.array([0]*len(pokemon_1))\n",
        "  for first_array_index in range(len(pokemon_1)):\n",
        "    # for j in range(len(pokemon_2)):\n",
        "    second_array_index = len(pokemon_2) - first_array_index - 1\n",
        "\n",
        "    poke1 = pokemon_1[first_array_index] if pokemon_1[first_array_index] is not None else 0\n",
        "    poke2 = pokemon_2[second_array_index] if pokemon_2[second_array_index] is not None else 0\n",
        "    # new_hp = pokemon_1[first_array_index] + pokemon_2[second_array_index]\n",
        "    new_hp = poke1 + poke2\n",
        "    result[first_array_index] = new_hp\n",
        "  return result\n",
        "\n",
        "print(\"///  Task 01: Merge Lineup  ///\")\n",
        "pokemon_1 = np.array([12, 3, 25, 1, None])\n",
        "pokemon_2 = np.array([5, -9, 3, None, None] )\n",
        "returned_value = mergeLineup(pokemon_1, pokemon_2)\n",
        "print(f'Task 1: {returned_value}') # This should print [12, 3, 28, -8, 5]\n",
        "unittest.output_test(returned_value, np.array([12, 3, 28, -8, 5]))\n",
        "\n",
        "pokemon_1 = np.array([4, 5, -1, None, None])\n",
        "pokemon_2 = np.array([2, 27, 7, 12, None])\n",
        "returned_value = mergeLineup(pokemon_1, pokemon_2)\n",
        "print(f'Task 2: {returned_value}') # This should print [4,17,6,27,2]\n",
        "unittest.output_test(returned_value, np.array([4,17,6,27,2]))"
      ],
      "metadata": {
        "id": "ZVbY0rzKgRgC",
        "colab": {
          "base_uri": "https://localhost:8080/"
        },
        "outputId": "d5dd8c7e-d34b-436e-c18e-5a761d5f51a0"
      },
      "execution_count": null,
      "outputs": [
        {
          "output_type": "stream",
          "name": "stdout",
          "text": [
            "///  Task 01: Merge Lineup  ///\n",
            "Task 1: [12  3 28 -8  5]\n",
            "Accepted\n",
            "Task 2: [ 4 17  6 27  2]\n",
            "Accepted\n"
          ]
        }
      ]
    },
    {
      "cell_type": "code",
      "source": [
        "# Task 02: Discard Cards\n",
        "def discardCards(cards, t):\n",
        "  # TO DO\n",
        "  length = len(cards)\n",
        "  store_remainder = np.zeros(length, dtype=int)\n",
        "  index_store_remainder = 0\n",
        "  tracking_t = 0\n",
        "  # skip = False\n",
        "\n",
        "  for each_card in range(length):\n",
        "    if cards[each_card] != t:\n",
        "      store_remainder[index_store_remainder] = cards[each_card]\n",
        "      index_store_remainder += 1\n",
        "\n",
        "    else:\n",
        "      if tracking_t % 2 != 0:\n",
        "        store_remainder[index_store_remainder] = cards[each_card]\n",
        "        index_store_remainder += 1\n",
        "        # skip = True\n",
        "      tracking_t += 1\n",
        "\n",
        "    # if skip:\n",
        "    #   skip = False\n",
        "\n",
        "  return store_remainder\n",
        "\n",
        "print(\"///  Task 02: Discard Cards  ///\")\n",
        "cards = np.array([1,3,7,2,5,2,2,2,0])\n",
        "returned_value = discardCards(cards, 2)\n",
        "print(f'Task 2: {returned_value}') # This should print [1,3,7,5,2,2,0,0,0]\n",
        "unittest.output_test(returned_value, np.array([1,3,7,5,2,2,0,0,0]))\n",
        "\n",
        "cards = np.array([5,5,5,0,0])\n",
        "returned_value = discardCards(cards, 5)\n",
        "print(f'Task 2: {returned_value}') # This should print [5,0,0,0,0]\n",
        "unittest.output_test(returned_value, np.array([5,0,0,0,0]))"
      ],
      "metadata": {
        "id": "rzaysRSshRbM",
        "colab": {
          "base_uri": "https://localhost:8080/"
        },
        "outputId": "02cbe2aa-b0a0-4e7b-ab9e-267cf27c2c8c"
      },
      "execution_count": null,
      "outputs": [
        {
          "output_type": "stream",
          "name": "stdout",
          "text": [
            "///  Task 02: Discard Cards  ///\n",
            "Task 2: [1 3 7 5 2 2 0 0 0]\n",
            "Accepted\n",
            "Task 2: [5 0 0 0 0]\n",
            "Accepted\n"
          ]
        }
      ]
    },
    {
      "cell_type": "code",
      "source": [
        "# Task 03: DUBER Fare Splitting\n",
        "def findGroups(money, fare):\n",
        "    group_num = 1\n",
        "    length = len(money)\n",
        "    grouped = np.zeros(length, dtype=bool)\n",
        "    ungrouped = np.zeros(length, dtype=int)\n",
        "    ungrouped_index = 0\n",
        "\n",
        "    for i in range(length):\n",
        "      # grouped = np.zeros(length, dtype=bool)\n",
        "      if not grouped[i]:\n",
        "          if money[i] == fare:\n",
        "          # if not grouped[i]:\n",
        "            print(f\"Group {group_num} : {money[i]}\")\n",
        "            group_num += 1\n",
        "            grouped[i] = True\n",
        "\n",
        "          for next_money in range(i + 1, length): # i+1 avoids comparing same element\n",
        "              if money[i] + money[next_money] == fare and not grouped[next_money]:\n",
        "                  if not grouped[i]:\n",
        "                      print(f\"Group {group_num}: {money[i]}, {money[next_money]}\", end='\\n')\n",
        "                      grouped[i] = True\n",
        "                      grouped[next_money] = True\n",
        "                      group_num += 1\n",
        "                      # next_money += 1\n",
        "\n",
        "          if not grouped[i]:\n",
        "            ungrouped[ungrouped_index] = money[i]\n",
        "            ungrouped_index += 1\n",
        "\n",
        "    if ungrouped_index > 0:\n",
        "      print(\"Ungrouped :\", end=' ')\n",
        "      for ungrouped_money in range(ungrouped_index - 1, -1, -1): # reverse order\n",
        "        print(ungrouped[ungrouped_money], end=' ')\n",
        "      print()\n",
        "    print()\n",
        "\n",
        "\n",
        "  # Print outputs inside the method\n",
        "\n",
        "\n",
        "\n",
        "print(\"///  Task 03: DUBER Fare Splitting  ///\")\n",
        "money = np.array([120, 100, 150, 50, 30])\n",
        "fare = 150\n",
        "print(f'Task 3:')\n",
        "findGroups(money, fare) # This should print\n",
        "# Group 1 : 120, 30\n",
        "# Group 2 : 100, 50\n",
        "# Group 3 : 150\n",
        "\n",
        "\n",
        "money = np.array( [60, 150, 60, 30, 120, 30])\n",
        "fare = 180\n",
        "print(f'Task 3:')\n",
        "findGroups(money, fare) # This should print\n",
        "# Group 1 : 60, 120\n",
        "# Group 2 : 30, 150\n",
        "# Ungrouped : 30 60\n",
        "\n",
        "money = np.array( [30, 150, 150])\n",
        "fare = 180\n",
        "print(f'Task 3:')\n",
        "findGroups(money, fare) # This should print\n",
        "# Group 1 : 30, 150\n",
        "# Ungrouped: 150"
      ],
      "metadata": {
        "colab": {
          "base_uri": "https://localhost:8080/"
        },
        "id": "jCn7k2tv6TFb",
        "outputId": "88f57a1b-1d26-4165-d494-c640513e35cb"
      },
      "execution_count": null,
      "outputs": [
        {
          "output_type": "stream",
          "name": "stdout",
          "text": [
            "///  Task 03: DUBER Fare Splitting  ///\n",
            "Task 3:\n",
            "Group 1: 120, 30\n",
            "Group 2: 100, 50\n",
            "Group 3 : 150\n",
            "\n",
            "Task 3:\n",
            "Group 1: 60, 120\n",
            "Group 2: 150, 30\n",
            "Ungrouped : 30 60 \n",
            "\n",
            "Task 3:\n",
            "Group 1: 30, 150\n",
            "Ungrouped : 150 \n",
            "\n"
          ]
        }
      ]
    },
    {
      "cell_type": "code",
      "source": [
        "# Task 04: Get Those Hobbies\n",
        "def analyzeHobbies(* participants): #(* arguments) is used for variable number of parameters\n",
        "  # TO DO\n",
        "  # Print outputs inside the method\n",
        "    all_hobbies = []\n",
        "    for person in participants:\n",
        "        for hobby in person:\n",
        "            all_hobbies += [hobby]\n",
        "\n",
        "    unique_activities = []\n",
        "    for hobby in all_hobbies:\n",
        "        if hobby not in unique_activities:\n",
        "            unique_activities += [hobby]\n",
        "\n",
        "    print(\"Unique Activities in the Town:\")\n",
        "    print(unique_activities)\n",
        "\n",
        "    print(\"\\nStatistics:\")\n",
        "    for activity in unique_activities:\n",
        "        count = 0\n",
        "        for person in participants:\n",
        "            if activity in person:\n",
        "                count += 1\n",
        "        print(f\"{count} participant(s) like(s) {activity}.\")\n",
        "\n",
        "\n",
        "\n",
        "print(\"///  Task 04: Get Those Hobbies  ///\")\n",
        "participant_1 = np.array( [\"Hiking\", \"Reading\", \"Photography\", \"Cooking\"])\n",
        "participant_2 = np.array( [\"Reading\", \"Hiking\", \"Painting\"])\n",
        "participant_3 = np.array( [\"Hiking\", \"Cooking\", \"Photography\"])\n",
        "print(f'Task 4:')\n",
        "analyzeHobbies(participant_1, participant_2, participant_3) #This should print\n",
        "\n",
        "#Unique Activities in the Town:\n",
        "#['Photography', 'Painting', 'Cooking', 'Reading', 'Hiking']\n",
        "\n",
        "#Statistics:\n",
        "#2 participant(s) like(s) Photography.\n",
        "#1 participant(s) like(s) Painting.\n",
        "#2 participant(s) like(s) Cooking.\n",
        "#2 participant(s) like(s) Reading.\n",
        "#3 participant(s) like(s) Hiking.\n",
        "\n",
        "\n",
        "print()\n",
        "participant_1 = np.array( [\"Gardening\", \"Traveling\"])\n",
        "participant_2 = np.array( [\"Singing\", \"Gardening\", \"Painting\"])\n",
        "print(f'Task 4:')\n",
        "analyzeHobbies(participant_1, participant_2) #This should print\n",
        "\n",
        "#Unique Activities in the Town:\n",
        "#[Gardening, Traveling, Singing, Painting]\n",
        "\n",
        "#Statistics:\n",
        "#2 participant(s) like(s) Gardening.\n",
        "#1 participant(s) like(s) Traveling.\n",
        "#1 participant(s) like(s) Singing.\n",
        "#1 participant(s) like(s) Painting.\n"
      ],
      "metadata": {
        "id": "SzBe-ByVmV8G",
        "colab": {
          "base_uri": "https://localhost:8080/"
        },
        "outputId": "fc2c6d8d-0448-49c4-80de-52d0ece8778c"
      },
      "execution_count": null,
      "outputs": [
        {
          "output_type": "stream",
          "name": "stdout",
          "text": [
            "///  Task 04: Get Those Hobbies  ///\n",
            "Task 4:\n",
            "Unique Activities in the Town:\n",
            "['Hiking', 'Reading', 'Photography', 'Cooking', 'Painting']\n",
            "\n",
            "Statistics:\n",
            "3 participant(s) like(s) Hiking.\n",
            "2 participant(s) like(s) Reading.\n",
            "2 participant(s) like(s) Photography.\n",
            "2 participant(s) like(s) Cooking.\n",
            "1 participant(s) like(s) Painting.\n",
            "\n",
            "Task 4:\n",
            "Unique Activities in the Town:\n",
            "['Gardening', 'Traveling', 'Singing', 'Painting']\n",
            "\n",
            "Statistics:\n",
            "2 participant(s) like(s) Gardening.\n",
            "1 participant(s) like(s) Traveling.\n",
            "1 participant(s) like(s) Singing.\n",
            "1 participant(s) like(s) Painting.\n"
          ]
        }
      ]
    },
    {
      "cell_type": "code",
      "source": [
        "# Bonus Ungraded Task: Look and Say\n",
        "def look_and_say(arr):\n",
        "  #TO DO\n",
        "  counting_number = np.zeros(100, dtype=int)\n",
        "  number_index = 0\n",
        "  number_count = 1\n",
        "  length = len(arr)\n",
        "  last_number = arr[0]\n",
        "\n",
        "  for number in range(1, length):\n",
        "    if arr[number] == last_number: # checking current and previous\n",
        "      number_count += 1\n",
        "    else:\n",
        "      counting_number[number_index + 1] = last_number\n",
        "      # number_index += 1\n",
        "      counting_number[number_index] = number_count\n",
        "      number_index += 2\n",
        "      number_count = 1\n",
        "      last_number = arr[number]\n",
        "\n",
        "  counting_number[number_index] = number_count\n",
        "  counting_number[number_index + 1] = last_number\n",
        "  # result = counting_number[:number_index + 2]\n",
        "  result = [int(all_number) for all_number in counting_number[:number_index + 2]]\n",
        "  # return counting_number[:number_index]\n",
        "  # return counting_number[:number_index + 2]\n",
        "  # return counting_number\n",
        "  return result\n",
        "\n",
        "\n",
        "\n",
        "print(\"///  Bonus Task: Look and Say  ///\")\n",
        "arr = np.array([1,3,1,1,2,2,2,1])\n",
        "returned_value = look_and_say(arr)\n",
        "print(f'Bonus Task: {returned_value}') # This should print [1,1,1,3,2,1,3,2,1,1]\n",
        "# unittest.output_test(returned_value, np.array([1,1,1,3,2,1,3,2,1,1]))\n",
        "\n",
        "print()\n",
        "print(\"///  Bonus Task: Look and Say  ///\")\n",
        "arr = np.array([3,1,1,3])\n",
        "returned_value = look_and_say(arr)\n",
        "print(f'Bonus Task: {returned_value}') # This should print [1,3,2,1,1,3]\n",
        "# unittest.output_test(returned_value, np.array([1,3,2,1,1,3]))\n",
        "#Hint: The size of the new array will never be more than 100.\n",
        "#[You need not worry about the extra zeroes at the end of your resulting array]"
      ],
      "metadata": {
        "id": "sTJ7GNezm6uu",
        "colab": {
          "base_uri": "https://localhost:8080/"
        },
        "outputId": "f5fc23b1-0738-4798-da8f-c60e6a0e0f70"
      },
      "execution_count": null,
      "outputs": [
        {
          "output_type": "stream",
          "name": "stdout",
          "text": [
            "///  Bonus Task: Look and Say  ///\n",
            "Bonus Task: [1, 1, 1, 3, 2, 1, 3, 2, 1, 1]\n",
            "\n",
            "///  Bonus Task: Look and Say  ///\n",
            "Bonus Task: [1, 3, 2, 1, 1, 3]\n"
          ]
        }
      ]
    },
    {
      "cell_type": "markdown",
      "source": [
        "For Assignment Part-1, you can create new code cells in the below and write your codes there. Also you should write driver codes to test your code for part-1."
      ],
      "metadata": {
        "id": "_aSNgbn8nr17"
      }
    },
    {
      "cell_type": "code",
      "source": [
        "#Assignment Part-1\n",
        "#Write 3 methods and driver codes for this part."
      ],
      "metadata": {
        "id": "CxJHbg7onWwN"
      },
      "execution_count": null,
      "outputs": []
    },
    {
      "cell_type": "code",
      "source": [
        "# Playing with Array and Probability Theory\n",
        "def find_mean(data):\n",
        "  sum_of_data = 0\n",
        "  for i in range(len(data)):\n",
        "    sum_of_data += data[i]\n",
        "  mean = sum_of_data / len(data)\n",
        "  return mean\n",
        "\n",
        "\n",
        "# def sqrt(value_to_sqrt):\n",
        "#     if value_to_sqrt == 0 or value_to_sqrt == 1:\n",
        "#         return value_to_sqrt\n",
        "\n",
        "#     # Babylonian method to find manual square root\n",
        "#     guess = value_to_sqrt / 2.0\n",
        "#     prev_guess = 0\n",
        "\n",
        "#     while guess != prev_guess:\n",
        "#         prev_guess = guess\n",
        "#         guess = 0.5 * (guess + value_to_sqrt / guess)\n",
        "#     return guess\n",
        "\n",
        "\n",
        "def find_stdev(data):\n",
        "  mean_found = find_mean(data)\n",
        "  variance = 0\n",
        "  for i in range(len(data)):\n",
        "    variance += (data[i] - mean_found)**2\n",
        "  variance /= (len(data) - 1)\n",
        "  # stdev = np.sqrt(variance)\n",
        "  # stdev = sqrt(variance)\n",
        "  stdev = variance**(0.5)\n",
        "  return stdev\n",
        "\n",
        "\n",
        "def numbers_to_store(data, threshold):\n",
        "    mean_found = find_mean(data)\n",
        "    stdev_found = find_stdev(data)\n",
        "    number_stdev_away_mean = threshold * stdev_found\n",
        "\n",
        "    difference_count = 0\n",
        "    for i in range(len(data)):\n",
        "        difference = data[i] - mean_found\n",
        "        if difference < 0:\n",
        "            difference = -difference  # abs calculation\n",
        "\n",
        "        if difference >= number_stdev_away_mean:\n",
        "            difference_count += 1\n",
        "\n",
        "    if difference_count > 0:\n",
        "        new_array = np.zeros(difference_count, dtype=data.dtype)\n",
        "        current_array_index = 0\n",
        "\n",
        "        for i in range(len(data)):\n",
        "            difference = data[i] - mean_found\n",
        "            if difference < 0:\n",
        "                difference = -difference\n",
        "\n",
        "            if difference >= number_stdev_away_mean:\n",
        "                new_array[current_array_index] = data[i]\n",
        "                current_array_index += 1\n",
        "        return new_array\n",
        "    else:\n",
        "        return None\n",
        "\n",
        "\n",
        "print(\"///  Assignment Part-1: Playing with Array and Probability Theory  ///\")\n",
        "data = np.array([10, 8, 13, 9, 14, 25, -5, 20, 7, 7, 4], dtype=float)\n",
        "mean = find_mean(data)\n",
        "stdev = find_stdev(data)\n",
        "new_array = numbers_to_store(data, 1.5)\n",
        "\n",
        "print(f\"The mean of the numbers is: {mean:.12f}\")\n",
        "print(f\"The standard deviation is: {stdev:.2f}\")\n",
        "# print(f\"New array: {new_array}\")\n",
        "# print(f\"New array: {np.array2string(new_array, separator=', ')}\")\n",
        "print(f\"New array: {[int(x) for x in new_array]}\")\n",
        "\n",
        "\n",
        "# Output:\n",
        "# The mean of the numbers is: 10.181818181818\n",
        "# The standard deviation is: 7.96\n",
        "# New array: [25, -5]\n"
      ],
      "metadata": {
        "id": "s-dXmnPUuJqu",
        "colab": {
          "base_uri": "https://localhost:8080/"
        },
        "outputId": "eb65d4cf-ac65-4d44-a85a-7127561ee5d4"
      },
      "execution_count": 5,
      "outputs": [
        {
          "output_type": "stream",
          "name": "stdout",
          "text": [
            "///  Assignment Part-1: Playing with Array and Probability Theory  ///\n",
            "The mean of the numbers is: 10.181818181818\n",
            "The standard deviation is: 7.96\n",
            "New array: [25, -5]\n"
          ]
        }
      ]
    },
    {
      "cell_type": "code",
      "source": [],
      "metadata": {
        "id": "AnYRXikcHLk_"
      },
      "execution_count": null,
      "outputs": []
    }
  ]
}