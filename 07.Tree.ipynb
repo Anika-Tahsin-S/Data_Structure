{
  "cells": [
    {
      "cell_type": "code",
      "execution_count": 1,
      "metadata": {
        "id": "D6vC520OPeTa"
      },
      "outputs": [],
      "source": [
        "class BTNode:\n",
        "  def __init__(self, elem):\n",
        "    self.elem = elem\n",
        "    self.right = None\n",
        "    self.left = None"
      ]
    },
    {
      "cell_type": "code",
      "execution_count": 2,
      "metadata": {
        "id": "UDTKlm4-PfNM"
      },
      "outputs": [],
      "source": [
        "def inorder(root):\n",
        "  if root == None:\n",
        "    return\n",
        "\n",
        "  inorder(root.left)\n",
        "  print(root.elem, end = ' ')\n",
        "  inorder(root.right)"
      ]
    },
    {
      "cell_type": "code",
      "execution_count": 3,
      "metadata": {
        "colab": {
          "base_uri": "https://localhost:8080/"
        },
        "id": "Rtc22SPzPgzM",
        "outputId": "748fffb2-c7ae-41d7-f827-76852d06066c"
      },
      "outputs": [
        {
          "output_type": "stream",
          "name": "stdout",
          "text": [
            "H D B E A I F J C G k "
          ]
        }
      ],
      "source": [
        "def tree_construction(arr, i = 1):\n",
        "  if i>=len(arr) or arr[i] == None:\n",
        "    return None\n",
        "  p = BTNode(arr[i])\n",
        "  p.left = tree_construction(arr, 2*i)\n",
        "  p.right = tree_construction(arr, 2*i+1)\n",
        "  return p\n",
        "\n",
        "\n",
        "root2 = tree_construction([None, 'A', 'B', 'C', 'D', 'E', 'F', 'G', 'H', None, None, None, 'I', 'J', None, 'k'])\n",
        "inorder(root2)"
      ]
    },
    {
      "cell_type": "markdown",
      "metadata": {
        "id": "S2nNCJNhPqGq"
      },
      "source": [
        "Task 1"
      ]
    },
    {
      "cell_type": "code",
      "execution_count": 4,
      "metadata": {
        "id": "zbBHU3FoPieb",
        "colab": {
          "base_uri": "https://localhost:8080/"
        },
        "outputId": "8e4080c3-6b86-4a3c-f29b-010dab37df92"
      },
      "outputs": [
        {
          "output_type": "stream",
          "name": "stdout",
          "text": [
            "Given Tree Inorder Traversal:  40 20 60 10 30 \n",
            "Mirrored Tree Inorder Traversal:  30 10 60 20 40 "
          ]
        }
      ],
      "source": [
        "def convert_mirror(root):\n",
        "  #To Do\n",
        "  if root is None:\n",
        "      return\n",
        "\n",
        "  root.left, root.right = root.right, root.left\n",
        "\n",
        "  convert_mirror(root.left)\n",
        "  convert_mirror(root.right)\n",
        "  return root\n",
        "\n",
        "\n",
        "#DRIVER CODE\n",
        "root = BTNode(10)\n",
        "n1 = BTNode(20)\n",
        "n2 = BTNode(30)\n",
        "n3 = BTNode(40)\n",
        "n4 = BTNode(60)\n",
        "\n",
        "root.left = n1\n",
        "root.right = n2\n",
        "\n",
        "n1.left = n3\n",
        "n1.right = n4\n",
        "\n",
        "print('Given Tree Inorder Traversal: ', end = ' ')\n",
        "inorder(root) #Given Tree Inorder Traversal:  40 20 60 10 30\n",
        "print()\n",
        "\n",
        "root2 = convert_mirror(root)\n",
        "print('Mirrored Tree Inorder Traversal: ', end = ' ')\n",
        "inorder(root2) #Mirrored Tree Inorder Traversal:  30 10 60 20 40"
      ]
    },
    {
      "cell_type": "markdown",
      "metadata": {
        "id": "c-TBf3m0PrtK"
      },
      "source": [
        "Task 2"
      ]
    },
    {
      "cell_type": "code",
      "execution_count": 5,
      "metadata": {
        "id": "lsuxinlBPmji",
        "colab": {
          "base_uri": "https://localhost:8080/"
        },
        "outputId": "8767be43-ce39-4a74-fab4-53bf5f396354"
      },
      "outputs": [
        {
          "output_type": "stream",
          "name": "stdout",
          "text": [
            "Given Tree Inorder Traversal:  3 9 -5 4 2 7 \n",
            "Level Wise Smallest Value:  {0: 4, 1: 2, 2: -5}\n"
          ]
        }
      ],
      "source": [
        "def smallest_level(root):\n",
        "  #To Do\n",
        "  if root is None:\n",
        "    return {}\n",
        "  tree_level = {}\n",
        "  saisho_level_saiki(root, 0, tree_level)\n",
        "  return tree_level\n",
        "\n",
        "def saisho_level_saiki(node, level, tree_level): # smallest_level_recursive\n",
        "  if node is None:\n",
        "      return\n",
        "  if level not in tree_level:\n",
        "      tree_level[level] = node.elem\n",
        "  else:\n",
        "    if node.elem < tree_level[level]:\n",
        "        tree_level[level] = node.elem\n",
        "\n",
        "  saisho_level_saiki(node.left, level + 1, tree_level)\n",
        "  saisho_level_saiki(node.right, level + 1, tree_level)\n",
        "\n",
        "\n",
        "#DRIVER CODE\n",
        "root = tree_construction([None, 4,9,2,3,-5,None,7])\n",
        "print('Given Tree Inorder Traversal: ', end = ' ')\n",
        "inorder(root) #Given Tree Inorder Traversal:  3 9 5 4 2 7\n",
        "print()\n",
        "print('Level Wise Smallest Value: ', end = ' ')\n",
        "print(smallest_level(root)) #Level Wise Smallest Value:  {0: 4, 1: 2, 2: -5}"
      ]
    },
    {
      "cell_type": "markdown",
      "metadata": {
        "id": "7r3lH3aWPz2d"
      },
      "source": [
        "Task 3"
      ]
    },
    {
      "cell_type": "code",
      "execution_count": 6,
      "metadata": {
        "id": "zFwP64v4Pu6d",
        "colab": {
          "base_uri": "https://localhost:8080/"
        },
        "outputId": "15bab138-d177-40c4-cf70-dc5fad3433e3"
      },
      "outputs": [
        {
          "output_type": "stream",
          "name": "stdout",
          "text": [
            "Given Tree Inorder Traversal:  4 8 10 12 14 20 22 \n",
            "Inorder predecessor of node 20: 14\n"
          ]
        }
      ],
      "source": [
        "# def inorder_predecessor(root, x):\n",
        "#   #To Do\n",
        "#   if root is None:\n",
        "#       return\n",
        "\n",
        "#   if x.left is not None:\n",
        "#     sakibito = x.left # predecessor\n",
        "#     while sakibito.right:\n",
        "#         sakibito = sakibito.right\n",
        "#     return sakibito\n",
        "\n",
        "#   sakibito = None\n",
        "#   genzai = root\n",
        "#   while genzai != x:\n",
        "#       if x.elem < genzai.elem:\n",
        "#           genzai = genzai.left\n",
        "#       else:\n",
        "#           sakibito = genzai\n",
        "#           genzai = genzai.right\n",
        "\n",
        "#   return sakibito\n",
        "\n",
        "\n",
        "def inorder_predecessor(root, x):\n",
        "    # TO Do\n",
        "    if root is None:\n",
        "        return None\n",
        "\n",
        "    if root.elem >= x.elem:\n",
        "        return inorder_predecessor(root.left, x)\n",
        "    else:\n",
        "        sakibito = inorder_predecessor(root.right, x) # predecessor\n",
        "        if sakibito is None:\n",
        "            return root\n",
        "        return sakibito\n",
        "\n",
        "#DRIVER CODE\n",
        "root = BTNode(20)\n",
        "n1 = BTNode(8)\n",
        "n2 = BTNode(22)\n",
        "n3 = BTNode(4)\n",
        "n4 = BTNode(12)\n",
        "n5 = BTNode(10)\n",
        "n6 = BTNode(14)\n",
        "\n",
        "root.left = n1\n",
        "root.right = n2\n",
        "\n",
        "n1.left = n3\n",
        "n1.right = n4\n",
        "\n",
        "n4.left = n5\n",
        "n4.right = n6\n",
        "\n",
        "print('Given Tree Inorder Traversal: ', end = ' ')\n",
        "inorder(root) #Given Tree Inorder Traversal:  4 8 10 12 14 20 22\n",
        "print()\n",
        "\n",
        "x = root\n",
        "print(f'Inorder predecessor of node {x.elem}: {inorder_predecessor(root, x).elem}') #Inorder predecessor of node 20: 14"
      ]
    },
    {
      "cell_type": "markdown",
      "metadata": {
        "id": "t3IGW4OaP8Vy"
      },
      "source": [
        "Task 4"
      ]
    },
    {
      "cell_type": "code",
      "execution_count": 7,
      "metadata": {
        "id": "d1A-tR7hP2fI",
        "colab": {
          "base_uri": "https://localhost:8080/"
        },
        "outputId": "d1ef6023-da3b-41ab-aa8f-9e5a839ab485"
      },
      "outputs": [
        {
          "output_type": "stream",
          "name": "stdout",
          "text": [
            "LCA(6, 12) = 10\n",
            "LCA(20, 6) = 15\n",
            "LCA(18, 22) = 20\n",
            "LCA(20, 25) = 25\n",
            "LCA(10, 12) = 10\n"
          ]
        }
      ],
      "source": [
        "def LCA(root, x, y):\n",
        "  #To Do\n",
        "  if root is None:\n",
        "      return None\n",
        "\n",
        "  if root.elem == x.elem or root.elem == y.elem:\n",
        "      return root\n",
        "\n",
        "  hidari_lca = LCA(root.left, x, y)\n",
        "  migi_lca = LCA(root.right, x, y)\n",
        "\n",
        "  if hidari_lca and migi_lca:\n",
        "      return root\n",
        "\n",
        "  return hidari_lca if hidari_lca else migi_lca\n",
        "\n",
        "\n",
        "#DRIVER CODE\n",
        "#Write by yourself from the given tree\n",
        "root = BTNode(15)\n",
        "n1 = BTNode(10)\n",
        "n2 = BTNode(25)\n",
        "n3 = BTNode(8)\n",
        "n4 = BTNode(12)\n",
        "n5 = BTNode(20)\n",
        "n6 = BTNode(30)\n",
        "n7 = BTNode(6)\n",
        "n8 = BTNode(9)\n",
        "n9 = BTNode(18)\n",
        "n10 = BTNode(22)\n",
        "\n",
        "\n",
        "root.left = n1\n",
        "root.right = n2\n",
        "n1.left = n3\n",
        "n1.right = n4\n",
        "n3.left = n7\n",
        "n3.right = n8\n",
        "n2.left = n5\n",
        "n2.right = n6\n",
        "n5.left = n9\n",
        "n5.right = n10\n",
        "\n",
        "#check all the sample inputs given\n",
        "# Test cases\n",
        "print(\"LCA(6, 12) =\", LCA(root, n7, n4).elem)  # Output: LCA(6, 12) = 10\n",
        "print(\"LCA(20, 6) =\", LCA(root, n5, n7).elem)  # Output: LCA(20, 6) = 15\n",
        "print(\"LCA(18, 22) =\", LCA(root, n9, n10).elem)  # Output: LCA(18, 22) = 20\n",
        "print(\"LCA(20, 25) =\", LCA(root, n5, n2).elem)  # Output: LCA(20, 25) = 25\n",
        "print(\"LCA(10, 12) =\", LCA(root, n1, n4).elem)  # Output: LCA(10, 12) = 10"
      ]
    },
    {
      "cell_type": "markdown",
      "source": [
        "Task 5"
      ],
      "metadata": {
        "id": "T3Pimbw_PLHY"
      }
    },
    {
      "cell_type": "code",
      "execution_count": 8,
      "metadata": {
        "id": "m4E9_E8PThk6"
      },
      "outputs": [],
      "source": [
        "def sumTree(root):\n",
        "  # To DO\n",
        "  #you can declare as many helper function with extra parameters as you need .\n",
        "  #You can not modify the parameters of sumTree or modify any part of the given code.\n",
        "    if root is None:\n",
        "        return 0\n",
        "    return compute_sum(root, 0)\n",
        "\n",
        "def compute_sum(node, level):\n",
        "    if node is None:\n",
        "        return 0\n",
        "\n",
        "    hidari_sum = compute_sum(node.left, level + 1)\n",
        "    migi_sum = compute_sum(node.right, level + 1)\n",
        "\n",
        "    if level == 0:\n",
        "        return node.elem + hidari_sum + migi_sum\n",
        "    else:\n",
        "        return (node.elem % level) + hidari_sum + migi_sum"
      ]
    },
    {
      "cell_type": "code",
      "source": [
        "#Driver Code\n",
        "#Input 1\n",
        "root1 = BTNode(9)\n",
        "node2 = BTNode(4)\n",
        "node3 = BTNode(5)\n",
        "node4 = BTNode(18)\n",
        "node5 = BTNode(14)\n",
        "node6 = BTNode(3)\n",
        "node7 = BTNode(54)\n",
        "node8 = BTNode(12)\n",
        "node9 = BTNode(8)\n",
        "node10 = BTNode(91)\n",
        "node11 = BTNode(56)\n",
        "\n",
        "root1.left = node2\n",
        "root1.right = node3\n",
        "\n",
        "node2.left = node4\n",
        "\n",
        "node3.left = node5\n",
        "node3.right = node6\n",
        "\n",
        "node4.left = node7\n",
        "node4.right = node8\n",
        "\n",
        "node5.left = node9\n",
        "\n",
        "node8.left = node10\n",
        "node8.right = node11\n",
        "\n",
        "print(sumTree(root1)) #This should print 15"
      ],
      "metadata": {
        "id": "wV3ezsf_Kwli",
        "colab": {
          "base_uri": "https://localhost:8080/"
        },
        "outputId": "010109c1-1f69-44cf-b46b-be689cf5781e"
      },
      "execution_count": 9,
      "outputs": [
        {
          "output_type": "stream",
          "name": "stdout",
          "text": [
            "15\n"
          ]
        }
      ]
    },
    {
      "cell_type": "markdown",
      "source": [
        "Task 6"
      ],
      "metadata": {
        "id": "8GJeWub8Ki1X"
      }
    },
    {
      "cell_type": "code",
      "source": [
        "def swap_child(root, level, M):\n",
        "  #To Do\n",
        "    if root is None:\n",
        "        return None\n",
        "\n",
        "    if level < M:\n",
        "        root.left, root.right = root.right, root.left\n",
        "\n",
        "    # Recursively swap children for right and left subtrees\n",
        "    root.left = swap_child(root.left, level + 1, M)\n",
        "    root.right = swap_child(root.right, level + 1, M)\n",
        "\n",
        "    return root\n",
        "\n",
        "#Driver Code\n",
        "root=BTNode('A')\n",
        "#Write other nodes by yourself from the given tree of Doc File\n",
        "node2 = BTNode('B')\n",
        "node3 = BTNode('C')\n",
        "\n",
        "node4 = BTNode('D')\n",
        "node5 = BTNode('E')\n",
        "node6 = BTNode('F')\n",
        "node7 = BTNode('G')\n",
        "node8 = BTNode('H')\n",
        "node9 = BTNode('I')\n",
        "node10 = BTNode('J')\n",
        "\n",
        "root.left = node2\n",
        "root.right = node3\n",
        "node2.left = node4\n",
        "node2.right = node5\n",
        "node3.right = node6\n",
        "node4.left = node7\n",
        "node4.right = node8\n",
        "node5.left = node9\n",
        "node6.left = node10\n",
        "\n",
        "print('Given Tree Inorder Traversal: ', end = ' ')\n",
        "inorder(root)   #Given Tree Inorder Traversal: G D H B I E A C J F\n",
        "print()\n",
        "\n",
        "root2 = swap_child(root, 0, 2)\n",
        "print('Swapped Tree Inorder Traversal: ', end = ' ')\n",
        "inorder(root2)  #Swapped Tree Inorder Traversal: J F C A I E B G D H"
      ],
      "metadata": {
        "id": "0Rb_m6FRKktN",
        "colab": {
          "base_uri": "https://localhost:8080/"
        },
        "outputId": "ebc49f80-ae0a-434f-91f6-cd444dddd78e"
      },
      "execution_count": 10,
      "outputs": [
        {
          "output_type": "stream",
          "name": "stdout",
          "text": [
            "Given Tree Inorder Traversal:  G D H B I E A C J F \n",
            "Swapped Tree Inorder Traversal:  J F C A I E B G D H "
          ]
        }
      ]
    },
    {
      "cell_type": "markdown",
      "source": [
        "Task 7"
      ],
      "metadata": {
        "id": "VrHklDOEKlHf"
      }
    },
    {
      "cell_type": "code",
      "source": [
        "def summation(root):\n",
        "    if root is None:\n",
        "        return 0\n",
        "    return root.elem + summation(root.left) + summation(root.right)\n",
        "\n",
        "def subtract_summation(root):\n",
        "    #To Do\n",
        "    if root is None:\n",
        "        return 0\n",
        "\n",
        "    hidari_sum = summation(root.left)\n",
        "    migi_sum = summation(root.right)\n",
        "\n",
        "    return hidari_sum - migi_sum\n",
        "\n",
        "\n",
        "#Driver Code\n",
        "root=BTNode(71)\n",
        "#Write other nodes by yourself from the given tree of Doc File\n",
        "root.left = BTNode(27)\n",
        "root.right = BTNode(62)\n",
        "\n",
        "n1 = BTNode(80)\n",
        "n2 = BTNode(75)\n",
        "n3 = BTNode(87)\n",
        "n4 = BTNode(56)\n",
        "n5 = BTNode(41)\n",
        "n6 = BTNode(3)\n",
        "n7 = BTNode(19)\n",
        "n8 = BTNode(89)\n",
        "\n",
        "root.left.left = n1\n",
        "root.left.right = n2\n",
        "\n",
        "n1.left = n3\n",
        "n1.right = n4\n",
        "\n",
        "root.right.left = n5\n",
        "root.right.right = n6\n",
        "\n",
        "n6.left = n7\n",
        "n6.right = n8\n",
        "\n",
        "print(subtract_summation(root)) #This should print 111"
      ],
      "metadata": {
        "id": "dMXJ2qxkNn_F",
        "colab": {
          "base_uri": "https://localhost:8080/"
        },
        "outputId": "3f25cbdd-e489-4a5e-90e2-ab3f34201c24"
      },
      "execution_count": 11,
      "outputs": [
        {
          "output_type": "stream",
          "name": "stdout",
          "text": [
            "111\n"
          ]
        }
      ]
    },
    {
      "cell_type": "markdown",
      "metadata": {
        "id": "SBD-0xoZP_ni"
      },
      "source": [
        "Bonus Task"
      ]
    },
    {
      "cell_type": "code",
      "source": [
        "def level_sum(root):\n",
        "    # TO Do\n",
        "    if root is None:\n",
        "        return 0\n",
        "\n",
        "    def calculate_sum(node, level):\n",
        "        if node is None:\n",
        "            return 0\n",
        "\n",
        "        genzai_sum = node.elem if level % 2 != 0 else -node.elem\n",
        "        hidari_sum = calculate_sum(node.left, level + 1)\n",
        "        migi_sum = calculate_sum(node.right, level + 1)\n",
        "\n",
        "        return genzai_sum + hidari_sum + migi_sum\n",
        "\n",
        "    return calculate_sum(root, 0)\n",
        "\n",
        "\n",
        "#DRIVER CODE\n",
        "root = BTNode(1)\n",
        "n2 = BTNode(2)\n",
        "n3 = BTNode(3)\n",
        "n4 = BTNode(4)\n",
        "n5 = BTNode(5)\n",
        "n6 = BTNode(6)\n",
        "n7 = BTNode(7)\n",
        "n8 = BTNode(8)\n",
        "root.left = n2\n",
        "root.right = n3\n",
        "\n",
        "n2.left = n4\n",
        "n3.left = n5\n",
        "n3.right = n6\n",
        "\n",
        "n5.left = n7\n",
        "n5.right = n8\n",
        "\n",
        "\n",
        "print(level_sum(root)) #This should print 4"
      ],
      "metadata": {
        "id": "U_LYhaRIxZCb",
        "colab": {
          "base_uri": "https://localhost:8080/"
        },
        "outputId": "be00e162-5b52-404d-93f7-0894dc2c0bc3"
      },
      "execution_count": 12,
      "outputs": [
        {
          "output_type": "stream",
          "name": "stdout",
          "text": [
            "4\n"
          ]
        }
      ]
    },
    {
      "cell_type": "code",
      "source": [],
      "metadata": {
        "id": "TYdiodKglTEy"
      },
      "execution_count": 12,
      "outputs": []
    }
  ],
  "metadata": {
    "colab": {
      "provenance": []
    },
    "kernelspec": {
      "display_name": "Python 3",
      "name": "python3"
    },
    "language_info": {
      "name": "python"
    }
  },
  "nbformat": 4,
  "nbformat_minor": 0
}