{
  "nbformat": 4,
  "nbformat_minor": 0,
  "metadata": {
    "colab": {
      "provenance": []
    },
    "kernelspec": {
      "name": "python3",
      "display_name": "Python 3"
    },
    "language_info": {
      "name": "python"
    }
  },
  "cells": [
    {
      "cell_type": "code",
      "execution_count": null,
      "metadata": {
        "id": "Pp1R95Pe7ID2",
        "colab": {
          "base_uri": "https://localhost:8080/"
        },
        "outputId": "c3b589f0-e138-48dc-9b53-c2091248b821"
      },
      "outputs": [
        {
          "output_type": "stream",
          "name": "stdout",
          "text": [
            "Requirement already satisfied: fhm-unittest in /usr/local/lib/python3.10/dist-packages (1.0.1)\n",
            "Requirement already satisfied: fuzzywuzzy in /usr/local/lib/python3.10/dist-packages (0.18.0)\n"
          ]
        }
      ],
      "source": [
        "# You must run this cell to install dependency\n",
        "! pip3 install fhm-unittest\n",
        "! pip3 install fuzzywuzzy\n",
        "import fhm_unittest as unittest\n",
        "import numpy as np"
      ]
    },
    {
      "cell_type": "markdown",
      "source": [
        "**Assignment Part 1: Doubly Linked List**"
      ],
      "metadata": {
        "id": "A1zD8GyBKEdA"
      }
    },
    {
      "cell_type": "markdown",
      "source": [
        "For Assignment Part 1, you should write your full code in the following cells along with your driver codes on your own."
      ],
      "metadata": {
        "id": "z4q4a-vSNoII"
      }
    },
    {
      "cell_type": "code",
      "source": [
        "#Assignment Part 1\n",
        "\n",
        "class Patient: # seems like node class\n",
        "  #write a constructor\n",
        "  def __init__(self, id, name, age, bloodgroup):\n",
        "      self.id = id\n",
        "      self.name = name\n",
        "      self.age = age\n",
        "      self.bloodgroup = bloodgroup\n",
        "\n",
        "class DoublyNode:\n",
        "  def __init__(self, elem, next=None, prev=None): # doubly as prev added\n",
        "      self.elem = elem\n",
        "      self.next = next\n",
        "      self.prev = prev"
      ],
      "metadata": {
        "id": "itoWpG7oNziA"
      },
      "execution_count": null,
      "outputs": []
    },
    {
      "cell_type": "code",
      "source": [
        "class WRM:\n",
        "  #write a constructor\n",
        "  def __init__(self):\n",
        "      self.head = DoublyNode(None)  # Dummy head node None<-elem->None\n",
        "      self.head.next = self.head  # Circular linking on dummy node\n",
        "      self.head.prev = self.head\n",
        "\n",
        "  def registerPatient(self, id, name, age, bloodgroup):\n",
        "    #To Do\n",
        "    new_patient = Patient(id, name, age, bloodgroup) # patient info\n",
        "    new_node = DoublyNode(new_patient) # acting as doubly circular linked\n",
        "    # Inserting at the end meaning right before head\n",
        "    new_node.next = self.head\n",
        "    new_node.prev = self.head.prev\n",
        "    self.head.prev.next = new_node\n",
        "    self.head.prev = new_node\n",
        "\n",
        "  def servePatient(self): # always will remove 0 as FIFO\n",
        "    #To Do\n",
        "    if self.head.next == self.head:  # No patients in waiting\n",
        "        print(\"No patients to serve.\")\n",
        "        return\n",
        "    else:\n",
        "        served_byonin = self.head.next.elem # actig like zero in head\n",
        "        self.head.next = self.head.next.next\n",
        "        self.head.next.prev = self.head\n",
        "        print(\"Patient being served:\", served_byonin.name)\n",
        "\n",
        "  def showAllPatient(self):\n",
        "    #To Do\n",
        "    if self.head.next == self.head:  # No patients in waiting\n",
        "        print(\"No patients in the waiting room.\")\n",
        "        return\n",
        "    else:\n",
        "        genzai_node = self.head.next\n",
        "        print(\"Patients in waiting:\")\n",
        "        while genzai_node != self.head:\n",
        "            print(genzai_node.elem.id, genzai_node.elem.name)\n",
        "            genzai_node = genzai_node.next\n",
        "\n",
        "  def canDoctorGoHome(self): # mimmicking isEmpty or not\n",
        "    #To Do\n",
        "    if self.head.next == self.head and self.head.prev == self.head:  # No patients in waiting\n",
        "        return True\n",
        "    else:\n",
        "        return False\n",
        "\n",
        "  def cancelAll(self):\n",
        "    #To Do\n",
        "    self.head.next = self.head\n",
        "    self.head.prev = self.head\n",
        "    print(\"All appointments canceled successfully.\")\n",
        "\n",
        "  def ReverseTheLine(self):\n",
        "    #To Do\n",
        "    if self.head.next == self.head:  # No patients in waiting\n",
        "        print(\"No patients in the waiting room to reverse.\")\n",
        "        return\n",
        "    else: # None->10->20->30->40\n",
        "        prev_node = self.head # 40\n",
        "        genzai_node = self.head.next #10\n",
        "        while genzai_node != self.head:\n",
        "            next_node = genzai_node.next #20 storing backup\n",
        "            genzai_node.next = prev_node #changing direction to next None<-10\n",
        "            genzai_node.prev = next_node # changing direction of prev to 10<-20\n",
        "            prev_node = genzai_node #update\n",
        "            genzai_node = next_node\n",
        "        self.head.next = prev_node #updating head next\n",
        "        self.head.prev = genzai_node #updating head prev\n",
        "        print(\"Line reversed successfully.\")"
      ],
      "metadata": {
        "id": "dNx7zTJ1OZNv"
      },
      "execution_count": null,
      "outputs": []
    },
    {
      "cell_type": "code",
      "source": [
        "#Write a Tester Code in this cell\n",
        "print(\"**Welcome to Waiting Room Management System**\")\n",
        "\n",
        "hikaeshitsu = WRM() # waiting room\n",
        "\n",
        "while True:\n",
        "    print(\"\\nOptions:\")\n",
        "    print(\"1. Add Patient\")\n",
        "    print(\"2. Serve Patient\")\n",
        "    print(\"3. Show All Patients\")\n",
        "    print(\"4. Can Doctor Go Home?\")\n",
        "    print(\"5. Cancel All Appointments\")\n",
        "    print(\"6. Reverse The Line\")\n",
        "    print(\"7. Exit\")\n",
        "\n",
        "    sentaku = input(\"Enter your choice: \")\n",
        "\n",
        "    if sentaku == '1':\n",
        "        id = int(input(\"Enter patient ID: \"))\n",
        "        name = input(\"Enter patient name: \")\n",
        "        age = int(input(\"Enter patient age: \"))\n",
        "        bloodgroup = input(\"Enter patient blood group: \")\n",
        "        hikaeshitsu.registerPatient(id, name, age, bloodgroup)\n",
        "        print(\"Patient added successfully.\")\n",
        "    elif sentaku == '2':\n",
        "        hikaeshitsu.servePatient()\n",
        "    elif sentaku == '3':\n",
        "        hikaeshitsu.showAllPatient()\n",
        "    elif sentaku == '4':\n",
        "        if hikaeshitsu.canDoctorGoHome():\n",
        "            print(\"Yes, doctor can go home.\")\n",
        "        else:\n",
        "            print(\"No, patients are still waiting.\")\n",
        "    elif sentaku == '5':\n",
        "        hikaeshitsu.cancelAll()\n",
        "    elif sentaku == '6':\n",
        "        hikaeshitsu.ReverseTheLine()\n",
        "    elif sentaku == '7':\n",
        "        print(\"Exiting the program.\")\n",
        "        break\n",
        "    else:\n",
        "        print(\"Invalid choice. Please enter a valid option.\")"
      ],
      "metadata": {
        "id": "jKhbn1LAPfjr",
        "colab": {
          "base_uri": "https://localhost:8080/"
        },
        "outputId": "2926b43c-b808-4614-ce1c-d0e87e808d26"
      },
      "execution_count": null,
      "outputs": [
        {
          "output_type": "stream",
          "name": "stdout",
          "text": [
            "**Welcome to Waiting Room Management System**\n",
            "\n",
            "Options:\n",
            "1. Add Patient\n",
            "2. Serve Patient\n",
            "3. Show All Patients\n",
            "4. Can Doctor Go Home?\n",
            "5. Cancel All Appointments\n",
            "6. Reverse The Line\n",
            "7. Exit\n",
            "Enter your choice: 1\n",
            "Enter patient ID: 3000000000\n",
            "Enter patient name: Monkey D. Luffy\n",
            "Enter patient age: 19\n",
            "Enter patient blood group: B\n",
            "Patient added successfully.\n",
            "\n",
            "Options:\n",
            "1. Add Patient\n",
            "2. Serve Patient\n",
            "3. Show All Patients\n",
            "4. Can Doctor Go Home?\n",
            "5. Cancel All Appointments\n",
            "6. Reverse The Line\n",
            "7. Exit\n",
            "Enter your choice: 1\n",
            "Enter patient ID: 1111000000\n",
            "Enter patient name: Roronoa Zoro\n",
            "Enter patient age: 21\n",
            "Enter patient blood group: AB\n",
            "Patient added successfully.\n",
            "\n",
            "Options:\n",
            "1. Add Patient\n",
            "2. Serve Patient\n",
            "3. Show All Patients\n",
            "4. Can Doctor Go Home?\n",
            "5. Cancel All Appointments\n",
            "6. Reverse The Line\n",
            "7. Exit\n",
            "Enter your choice: 1\n",
            "Enter patient ID: 1032000000\n",
            "Enter patient name: Vinsmoke Sanji\n",
            "Enter patient age: 21\n",
            "Enter patient blood group: O\n",
            "Patient added successfully.\n",
            "\n",
            "Options:\n",
            "1. Add Patient\n",
            "2. Serve Patient\n",
            "3. Show All Patients\n",
            "4. Can Doctor Go Home?\n",
            "5. Cancel All Appointments\n",
            "6. Reverse The Line\n",
            "7. Exit\n",
            "Enter your choice: 3\n",
            "Patients in waiting:\n",
            "3000000000 Monkey D. Luffy\n",
            "1111000000 Roronoa Zoro\n",
            "1032000000 Vinsmoke Sanji\n",
            "\n",
            "Options:\n",
            "1. Add Patient\n",
            "2. Serve Patient\n",
            "3. Show All Patients\n",
            "4. Can Doctor Go Home?\n",
            "5. Cancel All Appointments\n",
            "6. Reverse The Line\n",
            "7. Exit\n",
            "Enter your choice: 4\n",
            "No, patients are still waiting.\n",
            "\n",
            "Options:\n",
            "1. Add Patient\n",
            "2. Serve Patient\n",
            "3. Show All Patients\n",
            "4. Can Doctor Go Home?\n",
            "5. Cancel All Appointments\n",
            "6. Reverse The Line\n",
            "7. Exit\n",
            "Enter your choice: 6\n",
            "Line reversed successfully.\n",
            "\n",
            "Options:\n",
            "1. Add Patient\n",
            "2. Serve Patient\n",
            "3. Show All Patients\n",
            "4. Can Doctor Go Home?\n",
            "5. Cancel All Appointments\n",
            "6. Reverse The Line\n",
            "7. Exit\n",
            "Enter your choice: 3\n",
            "Patients in waiting:\n",
            "1032000000 Vinsmoke Sanji\n",
            "1111000000 Roronoa Zoro\n",
            "3000000000 Monkey D. Luffy\n",
            "\n",
            "Options:\n",
            "1. Add Patient\n",
            "2. Serve Patient\n",
            "3. Show All Patients\n",
            "4. Can Doctor Go Home?\n",
            "5. Cancel All Appointments\n",
            "6. Reverse The Line\n",
            "7. Exit\n",
            "Enter your choice: 2\n",
            "Patient being served: Vinsmoke Sanji\n",
            "\n",
            "Options:\n",
            "1. Add Patient\n",
            "2. Serve Patient\n",
            "3. Show All Patients\n",
            "4. Can Doctor Go Home?\n",
            "5. Cancel All Appointments\n",
            "6. Reverse The Line\n",
            "7. Exit\n",
            "Enter your choice: 3\n",
            "Patients in waiting:\n",
            "1111000000 Roronoa Zoro\n",
            "3000000000 Monkey D. Luffy\n",
            "\n",
            "Options:\n",
            "1. Add Patient\n",
            "2. Serve Patient\n",
            "3. Show All Patients\n",
            "4. Can Doctor Go Home?\n",
            "5. Cancel All Appointments\n",
            "6. Reverse The Line\n",
            "7. Exit\n",
            "Enter your choice: 4\n",
            "No, patients are still waiting.\n",
            "\n",
            "Options:\n",
            "1. Add Patient\n",
            "2. Serve Patient\n",
            "3. Show All Patients\n",
            "4. Can Doctor Go Home?\n",
            "5. Cancel All Appointments\n",
            "6. Reverse The Line\n",
            "7. Exit\n",
            "Enter your choice: 7\n",
            "Exiting the program.\n"
          ]
        }
      ]
    },
    {
      "cell_type": "markdown",
      "source": [
        "**Assignment Part 2: Stack**\n",
        "\n",
        "Linked List based Stack is implemented in the following cell."
      ],
      "metadata": {
        "id": "CJWd_j6YEnPn"
      }
    },
    {
      "cell_type": "code",
      "source": [
        "class Node:\n",
        "  def __init__(self,elem=None,next=None): #singly linked list used to stack implement\n",
        "    self.elem = elem\n",
        "    self.next = next\n",
        "\n",
        "class Stack:\n",
        "  def __init__(self):\n",
        "    self.__top = None\n",
        "\n",
        "  def push(self,elem):\n",
        "    nn = Node(elem,self.__top)\n",
        "    self.__top = nn\n",
        "\n",
        "  def pop(self):\n",
        "    if self.__top == None:\n",
        "      #print('Stack Underflow')\n",
        "      return None\n",
        "    e = self.__top # e.next needs to be none to remove connection\n",
        "    self.__top = self.__top.next # changing top when added new node\n",
        "    return e.elem\n",
        "\n",
        "  def peek(self):\n",
        "    if self.__top == None:\n",
        "      #print('Stack Underflow')\n",
        "      return None\n",
        "    return self.__top.elem\n",
        "\n",
        "  def isEmpty(self):\n",
        "    return self.__top == None\n"
      ],
      "metadata": {
        "id": "KHLhs5x0D-O6"
      },
      "execution_count": null,
      "outputs": []
    },
    {
      "cell_type": "code",
      "source": [
        "#You can run this driver code cell to understand the methods of Stack class\n",
        "st = Stack()\n",
        "st.push(4)\n",
        "st.push(3)\n",
        "st.push(5)\n",
        "st.push(1)\n",
        "st.push(9)\n",
        "\n",
        "print('Peeked Element: ',st.peek())\n",
        "print('Popped Element: ',st.pop())\n",
        "print('Popped Element: ',st.pop())\n",
        "print('Popped Element: ',st.pop())\n",
        "print('Peeked Element: ',st.peek())\n",
        "print('Popped Element: ',st.pop())\n",
        "print('Popped Element: ',st.pop())\n",
        "print('Peeked Element: ',st.peek())\n",
        "print('Popped Element: ',st.pop())\n",
        "print(st.isEmpty())"
      ],
      "metadata": {
        "id": "4XkuMA7gEjE7",
        "colab": {
          "base_uri": "https://localhost:8080/"
        },
        "outputId": "8b896cd0-bebc-4476-e600-06229485b1a7"
      },
      "execution_count": null,
      "outputs": [
        {
          "output_type": "stream",
          "name": "stdout",
          "text": [
            "Peeked Element:  9\n",
            "Popped Element:  9\n",
            "Popped Element:  1\n",
            "Popped Element:  5\n",
            "Peeked Element:  3\n",
            "Popped Element:  3\n",
            "Popped Element:  4\n",
            "Peeked Element:  None\n",
            "Popped Element:  None\n",
            "True\n"
          ]
        }
      ]
    },
    {
      "cell_type": "markdown",
      "source": [
        "You can print your stack using this code segment"
      ],
      "metadata": {
        "id": "xrfONLccG9Gi"
      }
    },
    {
      "cell_type": "code",
      "source": [
        "def print_stack(st):\n",
        "  if st.isEmpty():\n",
        "    return\n",
        "  p = st.pop()\n",
        "  print('|',p,end=' ')\n",
        "  if p<10:\n",
        "    print(' |')\n",
        "  else:\n",
        "    print('|')\n",
        "  #print('------')\n",
        "  print_stack(st)\n",
        "  st.push(p)\n",
        "\n",
        "# st = Stack()\n",
        "# st.push(4)\n",
        "# st.push(3)\n",
        "# st.push(5)\n",
        "# st.push(1)\n",
        "# st.push(9)\n",
        "# print_stack(st)\n",
        "# print('------')"
      ],
      "metadata": {
        "id": "S-EembO_GsWA"
      },
      "execution_count": null,
      "outputs": []
    },
    {
      "cell_type": "markdown",
      "source": [
        "Task 1: Diamond Count"
      ],
      "metadata": {
        "id": "iNMnfqqpIga2"
      }
    },
    {
      "cell_type": "code",
      "source": [
        "def diamond_count(stack,string):\n",
        "  #TO DO\n",
        "  diamond_kaunto = 0\n",
        "  for Kyarakuta in string: # character in string\n",
        "    if Kyarakuta == '<':\n",
        "        stack.push(Kyarakuta) # push has parameter\n",
        "    elif Kyarakuta == '>' and stack.peek() == '<':\n",
        "        stack.pop()\n",
        "        diamond_kaunto += 1\n",
        "  return diamond_kaunto\n",
        "\n",
        "\n",
        "print('Test 01')\n",
        "stack = Stack()\n",
        "string = '<..><.<..>> '\n",
        "returned_value = diamond_count(stack,string)\n",
        "print(f'Number of Diamonds: {returned_value}') #This should print 3\n",
        "unittest.output_test(returned_value, 3)\n",
        "print('-----------------------------------------')\n",
        "\n",
        "\n",
        "print('Test 02')\n",
        "stack = Stack()\n",
        "string = '<<<..<......<<<<....>'\n",
        "returned_value = diamond_count(stack,string)\n",
        "print(f'Number of Diamonds: {returned_value}') #This should print 1\n",
        "unittest.output_test(returned_value, 1)\n",
        "print('-----------------------------------------')\n",
        "\n",
        "\n",
        "print('Test 03')\n",
        "stack = Stack()\n",
        "string = '>>><...<<..>>...>...>>>'\n",
        "returned_value = diamond_count(stack,string)\n",
        "print(f'Number of Diamonds: {returned_value}') #This should print 3\n",
        "unittest.output_test(returned_value, 3)\n",
        "print('-----------------------------------------')"
      ],
      "metadata": {
        "id": "GnX70OIvG_gZ",
        "colab": {
          "base_uri": "https://localhost:8080/"
        },
        "outputId": "575ce3b7-a3f2-4fb5-c13c-64a2873c70b6"
      },
      "execution_count": null,
      "outputs": [
        {
          "output_type": "stream",
          "name": "stdout",
          "text": [
            "Test 01\n",
            "Number of Diamonds: 3\n",
            "Accepted\n",
            "-----------------------------------------\n",
            "Test 02\n",
            "Number of Diamonds: 1\n",
            "Accepted\n",
            "-----------------------------------------\n",
            "Test 03\n",
            "Number of Diamonds: 3\n",
            "Accepted\n",
            "-----------------------------------------\n"
          ]
        }
      ]
    },
    {
      "cell_type": "markdown",
      "source": [
        "Task 2: Tower of Blocks"
      ],
      "metadata": {
        "id": "PhCF3SZ6IX5g"
      }
    },
    {
      "cell_type": "code",
      "source": [
        "def remove_block(stack, n):\n",
        "  #TO DO\n",
        "  ichiji_stack = Stack() #backup stack\n",
        "  for stack_yoso in range(n-1): # as top starts from 0 so n=2 is 2-1=index1 || or range till stack top None\n",
        "    ichiji_stack.push(stack.pop()) # pop the element from stack using n then push in ichiji\n",
        "  # print(stack.peek())\n",
        "  stack.pop() # popped what we wanted to\n",
        "  while not ichiji_stack.isEmpty(): # or ichiji_stack top not none. while ichiji_stack != None\n",
        "    stack.push(ichiji_stack.pop()) # pushing it back to the original\n",
        "\n",
        "# can use counter=0 then while c<n\n",
        "\n",
        "print('Test 01')\n",
        "st = Stack()\n",
        "st.push(4)\n",
        "st.push(19)\n",
        "st.push(23)\n",
        "st.push(17)\n",
        "st.push(5)\n",
        "print('Stack:')\n",
        "print_stack(st)\n",
        "print('------')\n",
        "remove_block(st,2)\n",
        "print('After Removal')\n",
        "print_stack(st)\n",
        "print('------')\n",
        "\n",
        "print()\n",
        "print('======================================')\n",
        "print()\n",
        "\n",
        "print('Test 02')\n",
        "st = Stack()\n",
        "st.push(73)\n",
        "st.push(85)\n",
        "st.push(15)\n",
        "st.push(41)\n",
        "print('Stack:')\n",
        "print_stack(st)\n",
        "print('------')\n",
        "remove_block(st,3)\n",
        "print('After Removal')\n",
        "print_stack(st)\n",
        "print('------')\n",
        "\n",
        "print()\n",
        "print('======================================')\n",
        "print()"
      ],
      "metadata": {
        "id": "W3N4q7YAHExr",
        "colab": {
          "base_uri": "https://localhost:8080/"
        },
        "outputId": "e91e84b0-d816-4ee4-8b06-6aeb51f049c2"
      },
      "execution_count": null,
      "outputs": [
        {
          "output_type": "stream",
          "name": "stdout",
          "text": [
            "Test 01\n",
            "Stack:\n",
            "| 5  |\n",
            "| 17 |\n",
            "| 23 |\n",
            "| 19 |\n",
            "| 4  |\n",
            "------\n",
            "After Removal\n",
            "| 5  |\n",
            "| 23 |\n",
            "| 19 |\n",
            "| 4  |\n",
            "------\n",
            "\n",
            "======================================\n",
            "\n",
            "Test 02\n",
            "Stack:\n",
            "| 41 |\n",
            "| 15 |\n",
            "| 85 |\n",
            "| 73 |\n",
            "------\n",
            "After Removal\n",
            "| 41 |\n",
            "| 15 |\n",
            "| 73 |\n",
            "------\n",
            "\n",
            "======================================\n",
            "\n"
          ]
        }
      ]
    },
    {
      "cell_type": "markdown",
      "source": [
        "Task 3: Stack Reverse"
      ],
      "metadata": {
        "id": "jcngRuqUWOfl"
      }
    },
    {
      "cell_type": "code",
      "source": [
        "def conditional_reverse(stack):\n",
        "  #To Do\n",
        "  gyaku_stack = Stack()\n",
        "  maeno = None\n",
        "\n",
        "  while not stack.isEmpty():\n",
        "    genzai = stack.pop()\n",
        "    if genzai != maeno: # checking concurrent 50!= None\n",
        "      gyaku_stack.push(genzai) # pushing in reversed stack, add 50 to new stack\n",
        "      maeno = genzai # changing the new top 50\n",
        "  return gyaku_stack\n",
        "\n",
        "\n",
        "print('Test 01')\n",
        "st=Stack()\n",
        "st.push(10)\n",
        "st.push(10)\n",
        "st.push(20)\n",
        "st.push(20)\n",
        "st.push(30)\n",
        "st.push(10)\n",
        "st.push(50)\n",
        "print('Stack:')\n",
        "print_stack(st)\n",
        "print('------')\n",
        "reversed_stack=conditional_reverse(st)\n",
        "print('Conditional Reversed Stack:')\n",
        "print_stack(reversed_stack) # This stack contains 50, 10, 30, 20, 10 in this order whereas top element should be 10\n",
        "print('------')"
      ],
      "metadata": {
        "id": "gLSgfDKPWPnP",
        "colab": {
          "base_uri": "https://localhost:8080/"
        },
        "outputId": "6bc7a994-338e-4487-b5d3-96db9355630b"
      },
      "execution_count": null,
      "outputs": [
        {
          "output_type": "stream",
          "name": "stdout",
          "text": [
            "Test 01\n",
            "Stack:\n",
            "| 50 |\n",
            "| 10 |\n",
            "| 30 |\n",
            "| 20 |\n",
            "| 20 |\n",
            "| 10 |\n",
            "| 10 |\n",
            "------\n",
            "Conditional Reversed Stack:\n",
            "| 10 |\n",
            "| 20 |\n",
            "| 30 |\n",
            "| 10 |\n",
            "| 50 |\n",
            "------\n"
          ]
        }
      ]
    }
  ]
}